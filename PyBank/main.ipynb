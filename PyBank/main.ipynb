{
 "cells": [
  {
   "cell_type": "code",
   "execution_count": null,
   "metadata": {},
   "outputs": [],
   "source": [
    "#Pybank"
   ]
  },
  {
   "cell_type": "code",
   "execution_count": 2,
   "metadata": {},
   "outputs": [
    {
     "name": "stdout",
     "output_type": "stream",
     "text": [
      "Financial Analysis\n",
      "----------------------------\n",
      "Total Months: 86\n",
      "Total: $38382578\n",
      "Average  Change: $-2315.12\n",
      "Greatest Increase in Profits: Feb-2012 ($1926159)\n",
      "Greatest Decrease in Profits: Sep-2013 ($-2196167)\n"
     ]
    }
   ],
   "source": [
    "# Your task is to create a Python script that analyzes the records to calculate each of the following:\n",
    "# Import from the pathlib library, the main class Path\n",
    "from pathlib import Path\n",
    "import csv\n",
    "# Check the current directory where the Python program is executing from\n",
    "csvpath = Path('02-Homework_02-Python_Instructions_PyBank_Resources_budget_data.csv')\n",
    "# Open the input path as a file object\n",
    "List = []\n",
    "Month_List = []\n",
    "Profit_Losses_list = []\n",
    "Profit_Losses_Average_list = []\n",
    "\n",
    "\n",
    "with open(csvpath, 'r') as csvfile:\n",
    "    # Pass in the csv file to the csv.reader() function\n",
    "    # (with ',' as the delmiter/separator) and return the csvreader object\n",
    "    csvreader = csv.reader(csvfile, delimiter=',')\n",
    "    # Go to the next row from the start of the file\n",
    "    header = next(csvreader)\n",
    "    \n",
    "     # Read each row of data after the header\n",
    "    for row in csvreader:\n",
    "        List.append(row)\n",
    "        Month_List.append(row[0])\n",
    "        Profit_Losses_list.append(int(row[1]))\n",
    "\n",
    "    for x in range(1,len(Profit_Losses_list)):\n",
    "        Profit_Losses_Average = int(List[x][1]) - int(List[x-1][1])\n",
    "        Profit_Losses_Average_list.append(Profit_Losses_Average)\n",
    "\n",
    "\n",
    "\n",
    "print(\"Financial Analysis\")\n",
    "print(\"----------------------------\")\n",
    "\n",
    "# # The total number of months included in the dataset.\n",
    "print(f\"Total Months: {len(Profit_Losses_list)}\")\n",
    "\n",
    "# # # The net total amount of Profit/Losses over the entire period.\n",
    "print(f\"Total: ${sum(Profit_Losses_list)}\")\n",
    "\n",
    "# The average of the changes in Profit/Losses over the entire period.\n",
    "Average = (sum(Profit_Losses_Average_list)/len(Profit_Losses_Average_list))\n",
    "print(f\"Average  Change: ${round(Average,2)}\")\n",
    "\n",
    "# The greatest increase in profits (date and amount) over the entire period.\n",
    "Month_Max = Month_List[(Profit_Losses_Average_list.index(max(Profit_Losses_Average_list)))+1]\n",
    "print(f\"Greatest Increase in Profits: {Month_Max} (${max(Profit_Losses_Average_list)})\")\n",
    "\n",
    "# The greatest decrease in losses (date and amount) over the entire period.\n",
    "Month_Min = Month_List[(Profit_Losses_Average_list.index(min(Profit_Losses_Average_list)))+1]\n",
    "print(f\"Greatest Decrease in Profits: {Month_Min} (${min(Profit_Losses_Average_list)})\")\n",
    "\n",
    "\n",
    "# Print Results in file\n",
    "# Set the output file path\n",
    "output_path = Path(\"Result.txt\")\n",
    "\n",
    "# Open the output_path as a file object in \"write\" mode ('w')\n",
    "# Write a header line and write the contents of 'text' to the file\n",
    "with open(output_path, 'w') as file:\n",
    "    file.write(\"This is an output file.\\n\")\n",
    "    file.write(\"Financial Analysis\\n\")\n",
    "    file.write(\"----------------------------\\n\")\n",
    "    file.write(f\"Total Months: {len(Profit_Losses_list)}\\n\")\n",
    "    file.write(f\"Total: ${sum(Profit_Losses_list)}\\n\")\n",
    "    file.write(f\"Average  Change: ${round(Average,2)}\\n\")\n",
    "    file.write(f\"Greatest Increase in Profits: {Month_Max} (${max(Profit_Losses_Average_list)})\\n\")\n",
    "    file.write(f\"Greatest Decrease in Profits: {Month_Min} (${min(Profit_Losses_Average_list)})\\n\")\n"
   ]
  },
  {
   "cell_type": "code",
   "execution_count": null,
   "metadata": {},
   "outputs": [],
   "source": []
  }
 ],
 "metadata": {
  "kernelspec": {
   "display_name": "Python 3",
   "language": "python",
   "name": "python3"
  },
  "language_info": {
   "codemirror_mode": {
    "name": "ipython",
    "version": 3
   },
   "file_extension": ".py",
   "mimetype": "text/x-python",
   "name": "python",
   "nbconvert_exporter": "python",
   "pygments_lexer": "ipython3",
   "version": "3.7.9"
  }
 },
 "nbformat": 4,
 "nbformat_minor": 4
}
