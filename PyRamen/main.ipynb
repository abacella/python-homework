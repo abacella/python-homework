{
 "cells": [
  {
   "cell_type": "code",
   "execution_count": 1,
   "metadata": {},
   "outputs": [],
   "source": [
    "#PyRamen"
   ]
  },
  {
   "cell_type": "code",
   "execution_count": 2,
   "metadata": {},
   "outputs": [],
   "source": [
    "# -*- coding: UTF-8 -*-\n",
    "\"\"\"PyRamen Homework Starter.\"\"\"\n",
    "\n",
    "# @TODO: Import libraries\n",
    "import csv\n",
    "from pathlib import Path\n",
    "\n",
    "# @TODO: Set file paths for menu_data.csv and sales_data.csv\n",
    "menu_filepath = Path('Resources/menu_data.csv')\n",
    "sales_filepath = Path('Resources/sales_data.csv')\n",
    "\n",
    "# @TODO: Initialize list objects to hold our menu and sales data\n",
    "menu = []\n",
    "sales = []\n",
    "\n",
    "# @TODO: Read in the menu data into the menu list\n",
    "\n",
    "with open(menu_filepath, 'r') as menu_datafile:\n",
    "    # Pass in the csv file to the csv.reader() function\n",
    "    # (with ',' as the delmiter/separator) and return the csvreader object\n",
    "    menu_datareader = csv.reader(menu_datafile, delimiter=',')\n",
    "    # Go to the next row from the start of the file\n",
    "    headermenu = next(menu_datareader)\n",
    "    \n",
    "    for row_menu in menu_datareader:\n",
    "        menu.append(row_menu)\n",
    "\n",
    "with open(sales_filepath, 'r') as sales_filefile:\n",
    "    #Pass in the csv file to the csv.reader() function\n",
    "    #(with ',' as the delmiter/separator) and return the csvreader object\n",
    "    sales_filereader = csv.reader(sales_filefile, delimiter=',')\n",
    "    #Go to the next row from the start of the file\n",
    "    headersales = next(sales_filereader)\n",
    "#    sales = list(sales_filereader)\n",
    "    for row_sales in sales_filereader:\n",
    "        sales.append(row_sales)   \n"
   ]
  },
  {
   "cell_type": "code",
   "execution_count": 3,
   "metadata": {},
   "outputs": [],
   "source": [
    "# Create Dictionary called report where the key is the ordered food from sales_data.csv and the values is a dictionary \n",
    "#with the keys 01-count, 02-revenue, 03-cogs, 04-profit where 01- count value is the sum of orders for each type\n",
    "\n",
    "report = {}\n",
    "for order in range(len(sales)):\n",
    "    if sales[order][4] not in report:\n",
    "        report[sales[order][4]] = {\n",
    "        \"01-count\": int(sales[order][3]),\n",
    "        \"02-revenue\": 0,\n",
    "        \"03-cogs\": 0,\n",
    "        \"04-profit\": 0,\n",
    "                                    }\n",
    "    else:\n",
    "        report[sales[order][4]][\"01-count\"] = report[sales[order][4]][\"01-count\"] + int(sales[order][3])\n"
   ]
  },
  {
   "cell_type": "code",
   "execution_count": 4,
   "metadata": {},
   "outputs": [],
   "source": [
    "\n",
    "# Loop to check if the menu item is equal to the keys in the report dictionary and if True copies the data for \n",
    "#price and costs to the formulas for revenue, cogs and profit\n",
    "\n",
    "for items in range(len(menu)):\n",
    "    if menu[items][0] in report:\n",
    "        report[menu[items][0]]['02-revenue'] = float(menu[items][3]) * int(report[menu[items][0]]['01-count'])\n",
    "        report[menu[items][0]]['03-cogs'] = float(menu[items][4]) * int(report[menu[items][0]]['01-count'])\n",
    "        report[menu[items][0]]['04-profit'] = (report[menu[items][0]]['02-revenue']) -  report[menu[items][0]]['03-cogs']\n"
   ]
  },
  {
   "cell_type": "code",
   "execution_count": 5,
   "metadata": {},
   "outputs": [
    {
     "name": "stdout",
     "output_type": "stream",
     "text": [
      "spicy miso ramen {'01-count': 9238, '02-revenue': 110856.0, '03-cogs': 46190.0, '04-profit': 64666.0}\n",
      "tori paitan ramen {'01-count': 9156, '02-revenue': 119028.0, '03-cogs': 54936.0, '04-profit': 64092.0}\n",
      "truffle butter ramen {'01-count': 8982, '02-revenue': 125748.0, '03-cogs': 62874.0, '04-profit': 62874.0}\n",
      "tonkotsu ramen {'01-count': 9288, '02-revenue': 120744.0, '03-cogs': 55728.0, '04-profit': 65016.0}\n",
      "vegetarian spicy miso {'01-count': 9216, '02-revenue': 110592.0, '03-cogs': 46080.0, '04-profit': 64512.0}\n",
      "shio ramen {'01-count': 9180, '02-revenue': 100980.0, '03-cogs': 45900.0, '04-profit': 55080.0}\n",
      "miso crab ramen {'01-count': 8890, '02-revenue': 106680.0, '03-cogs': 53340.0, '04-profit': 53340.0}\n",
      "nagomi shoyu {'01-count': 9132, '02-revenue': 100452.0, '03-cogs': 45660.0, '04-profit': 54792.0}\n",
      "soft-shell miso crab ramen {'01-count': 9130, '02-revenue': 127820.0, '03-cogs': 63910.0, '04-profit': 63910.0}\n",
      "burnt garlic tonkotsu ramen {'01-count': 9070, '02-revenue': 126980.0, '03-cogs': 54420.0, '04-profit': 72560.0}\n",
      "vegetarian curry + king trumpet mushroom ramen {'01-count': 8824, '02-revenue': 114712.0, '03-cogs': 61768.0, '04-profit': 52944.0}\n"
     ]
    }
   ],
   "source": [
    "# Print Results in file\n",
    "\n",
    "# Set the output file path\n",
    "output_path = Path(\"Result.txt\")\n",
    "\n",
    "# Open the output_path as a file object in \"write\" mode ('w')\n",
    "# Write a header line and write the contents of 'text' to the file\n",
    "with open(output_path, 'w') as file:\n",
    "    for key,value in report.items():\n",
    "        print(key,value)\n",
    "        file.write(f\"{key} {value}\\n\")\n",
    "\n",
    "        \n"
   ]
  },
  {
   "cell_type": "code",
   "execution_count": null,
   "metadata": {},
   "outputs": [],
   "source": [
    "\n"
   ]
  },
  {
   "cell_type": "code",
   "execution_count": null,
   "metadata": {},
   "outputs": [],
   "source": []
  }
 ],
 "metadata": {
  "kernelspec": {
   "display_name": "Python 3",
   "language": "python",
   "name": "python3"
  },
  "language_info": {
   "codemirror_mode": {
    "name": "ipython",
    "version": 3
   },
   "file_extension": ".py",
   "mimetype": "text/x-python",
   "name": "python",
   "nbconvert_exporter": "python",
   "pygments_lexer": "ipython3",
   "version": "3.7.9"
  }
 },
 "nbformat": 4,
 "nbformat_minor": 4
}
